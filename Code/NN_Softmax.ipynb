{
 "metadata": {
  "language_info": {
   "codemirror_mode": {
    "name": "ipython",
    "version": 3
   },
   "file_extension": ".py",
   "mimetype": "text/x-python",
   "name": "python",
   "nbconvert_exporter": "python",
   "pygments_lexer": "ipython3",
   "version": "3.7.3-final"
  },
  "orig_nbformat": 2,
  "kernelspec": {
   "name": "python373jvsc74a57bd0e48d23369a553edc96f1373b6255b5687d82d68cd08867622b2500e338930542",
   "display_name": "Python 3.7.3 64-bit (conda)"
  }
 },
 "nbformat": 4,
 "nbformat_minor": 2,
 "cells": [
  {
   "source": [
    "# Softmax 함수를 이용한 분류"
   ],
   "cell_type": "markdown",
   "metadata": {}
  },
  {
   "source": [
    "softmax 함수를 사용하는 이유는 다중 분류를 수행할때, 로짓 값 혹은 각각 개별에 대한 확률값을 반환받게 되면 비교하기가 어렵기 때문에, 출력값의 합을 1로 정규화 하여 적절하게 비교할 수 있도록 한다."
   ],
   "cell_type": "markdown",
   "metadata": {}
  },
  {
   "cell_type": "code",
   "execution_count": 90,
   "metadata": {},
   "outputs": [],
   "source": [
    "import csv\n",
    "import numpy as np\n",
    "import matplotlib.pyplot as plt"
   ]
  },
  {
   "cell_type": "code",
   "execution_count": 91,
   "metadata": {},
   "outputs": [],
   "source": [
    "np.random.seed(1024)\n",
    "\n",
    "RND_MEAN = 0\n",
    "RND_STD = 0.003\n",
    "\n",
    "LEARNING_RATE = 0.003"
   ]
  },
  {
   "cell_type": "code",
   "execution_count": 92,
   "metadata": {},
   "outputs": [],
   "source": [
    "def init_model():\n",
    "    global weight, bias, input_cnt, output_cnt\n",
    "    weight = np.random.normal(RND_MEAN, RND_STD, [input_cnt, output_cnt])\n",
    "    bias = np.zeros([output_cnt])"
   ]
  },
  {
   "cell_type": "code",
   "execution_count": 93,
   "metadata": {},
   "outputs": [],
   "source": [
    "def multi_class_exc(epoch_count=10, mb_size=10, report=1, train_rate=0.7):\n",
    "    multi_load_dataset()\n",
    "    init_model()\n",
    "    train_and_test(epoch_count, mb_size, report, train_rate)"
   ]
  },
  {
   "cell_type": "code",
   "execution_count": 94,
   "metadata": {},
   "outputs": [],
   "source": [
    "def multi_load_dataset():\n",
    "    with open(\"./Data/faults.csv\") as csvfile:\n",
    "        csvreader = csv.reader(csvfile)\n",
    "        next(csvreader,None)\n",
    "        rows=[]\n",
    "        for row in csvreader:\n",
    "            rows.append(row)\n",
    "\n",
    "    global data, input_cnt, output_cnt\n",
    "\n",
    "    input_cnt, output_cnt = 27,7\n",
    "    data = np.asarray(rows,dtype='float32')"
   ]
  },
  {
   "cell_type": "code",
   "execution_count": 95,
   "metadata": {},
   "outputs": [],
   "source": [
    "def arrange_data(mb_size, train_rate):\n",
    "    global data, shuffle_map, test_begin_idx\n",
    "    shuffle_map = np.arange(data.shape[0])\n",
    "    np.random.shuffle(shuffle_map)\n",
    "\n",
    "    step_count = int(data.shape[0] * train_rate) // mb_size\n",
    "    test_begin_idx = step_count * mb_size\n",
    "    \n",
    "    return step_count"
   ]
  },
  {
   "cell_type": "code",
   "execution_count": 96,
   "metadata": {},
   "outputs": [],
   "source": [
    "def get_train_data(mb_size, nth):\n",
    "    global data, shuffle_map, test_begin_idx, output_cnt\n",
    "    if nth == 0:\n",
    "        np.random.shuffle(shuffle_map[:test_begin_idx])\n",
    "    train_data = data[shuffle_map[mb_size*nth : mb_size*(nth+1)]]\n",
    "\n",
    "    return train_data[:, :-output_cnt], train_data[:, -output_cnt:]"
   ]
  },
  {
   "cell_type": "code",
   "execution_count": 97,
   "metadata": {},
   "outputs": [],
   "source": [
    "def get_test_data():\n",
    "    global data, shuffle_map, test_begin_idx, output_cnt\n",
    "\n",
    "    test_data = data[shuffle_map[test_begin_idx:]]\n",
    "    return test_data[:, :-output_cnt] , test_data[:, -output_cnt:]"
   ]
  },
  {
   "cell_type": "code",
   "execution_count": null,
   "metadata": {},
   "outputs": [],
   "source": []
  },
  {
   "cell_type": "code",
   "execution_count": 98,
   "metadata": {},
   "outputs": [],
   "source": [
    "def run_train(x,y):\n",
    "    output, aux_nn = forward_neuralnet(x)\n",
    "    loss, aux_pp = forward_postproc(output, y)\n",
    "    accuracy = eval_accuracy(output, y)\n",
    "\n",
    "    # 역전파 수행 및 파라미터 갱신(aux_pp = [y, output, entropy])\n",
    "    G_output = backprop_postproc(aux_pp)\n",
    "    # aux_nn은 x.transpose()를 위해\n",
    "    backprop_neuralnet(G_output, aux_nn)\n",
    "\n",
    "    return loss, accuracy"
   ]
  },
  {
   "cell_type": "code",
   "execution_count": 99,
   "metadata": {},
   "outputs": [],
   "source": [
    "def run_test(test_x, test_y):\n",
    "    output, _ = forward_neuralnet(test_x)\n",
    "    accuracy = eval_accuracy(output, test_y)\n",
    "    \n",
    "    return accuracy"
   ]
  },
  {
   "cell_type": "code",
   "execution_count": 100,
   "metadata": {},
   "outputs": [],
   "source": [
    "def forward_neuralnet(x):\n",
    "    '''\n",
    "    신경망 연산을 수행하는 함수\n",
    "    '''\n",
    "    global weight, bias\n",
    "\n",
    "    output = np.matmul(x, weight) + bias\n",
    "    return output, x"
   ]
  },
  {
   "cell_type": "code",
   "execution_count": 101,
   "metadata": {},
   "outputs": [],
   "source": [
    "def forward_postproc(output, y):\n",
    "    '''\n",
    "    Loss 값을 계산하는 함수\n",
    "    '''\n",
    "    entropy = softmax_cross_entropy_with_logits(y,output)\n",
    "    loss = np.mean(entropy)\n",
    "\n",
    "    # y 값을 그대로 반환하는 이유는 혹시나 값이 변하거나 다시 섞이는걸 막기 위함이다.\n",
    "    return loss, [y, output, entropy]"
   ]
  },
  {
   "source": [
    "$softmax = \\frac{e^{x_i-x_k}}{e^{x_1-x_k}+e^{x_2-x_k}+\\cdots+e^{x_k-x_k}+e^{x_n-x_k}}$"
   ],
   "cell_type": "markdown",
   "metadata": {}
  },
  {
   "cell_type": "code",
   "execution_count": 1,
   "metadata": {},
   "outputs": [],
   "source": [
    "def softmax(x):\n",
    "    '''\n",
    "    softmax 활성화 함수\n",
    "    '''\n",
    "    # output 값 중 최댓값을 열 기준에서 추출하기 위하여 axis=1 설정\n",
    "    max_elem = np.max(x, axis =1)\n",
    "\n",
    "    # 바로는 계산이 안되기때문에 전치를 해서 계산 후에 다시 원상복귀 해주는 방식을 이용한다\n",
    "    diff = (x.transpose() - max_elem).transpose()\n",
    "    exp = np.exp(diff)\n",
    "    sum_exp = np.sum(exp, axis=1)\n",
    "    probs = (exp.transpose()/sum_exp).transpose()\n",
    "\n",
    "    return probs        # softmax를 통과한 확률\n",
    "\n",
    "\n",
    "def relu(x):\n",
    "    return np.maximum(x,0)"
   ]
  },
  {
   "cell_type": "code",
   "execution_count": 103,
   "metadata": {},
   "outputs": [],
   "source": [
    "def softmax_cross_entropy_with_logits(labels, logits):\n",
    "    '''\n",
    "    크로스엔트로피를 구하는 함수\n",
    "    '''\n",
    "    # 소프트맥스 교차 엔트로피 개선식의 신경망 예측에 대한 확률분포 q 위치에 대한 log 연산의 폭주를 막기위해\n",
    "    # 아주 작은 양수값과 함ㅈ께 더해주며 위치시킨다.\n",
    "    \n",
    "    probs = softmax(logits)\n",
    "    # 기존 확률값에 아주 작은 양수를 더해 log 함수의 오버플로우를 막음\n",
    "    return -np.sum(labels * np.log(probs+1.0e-10), axis=1)"
   ]
  },
  {
   "cell_type": "code",
   "execution_count": 104,
   "metadata": {},
   "outputs": [],
   "source": [
    "def backprop_postproc(aux_pp):\n",
    "    y, output, entorpy = aux_pp\n",
    "    G_loss = 1.0\n",
    "\n",
    "    g_loss_entropy = 1.0 / np.prod(entorpy.shape)\n",
    "    g_entropy_output = softmax_cross_entropy_with_logits_derv(y, output)\n",
    "\n",
    "    G_entropy = g_loss_entropy * G_loss\n",
    "    G_output = g_entropy_output * G_entropy\n",
    "\n",
    "    return G_output"
   ]
  },
  {
   "cell_type": "code",
   "execution_count": 105,
   "metadata": {},
   "outputs": [],
   "source": [
    "def softmax_cross_entropy_with_logits_derv(labels, logits):\n",
    "    return softmax(logits) - labels"
   ]
  },
  {
   "cell_type": "code",
   "execution_count": 106,
   "metadata": {},
   "outputs": [],
   "source": [
    "def backprop_neuralnet(G_output, x):\n",
    "    global weight, bias\n",
    "    g_output_w = x.transpose()\n",
    "\n",
    "    G_w = np.matmul(g_output_w, G_output)\n",
    "    G_b = np.sum(G_output, axis =0)\n",
    "\n",
    "    weight -= LEARNING_RATE * G_w\n",
    "    bias -= LEARNING_RATE * G_b\n"
   ]
  },
  {
   "cell_type": "code",
   "execution_count": 107,
   "metadata": {},
   "outputs": [],
   "source": [
    "def eval_accuracy(output, y):\n",
    "    estimate = np.greater(output,0)\n",
    "    answer = np.greater(y,0.5)\n",
    "    correct = np.equal(estimate, answer)\n",
    "\n",
    "    return np.mean(correct)"
   ]
  },
  {
   "cell_type": "code",
   "execution_count": 108,
   "metadata": {},
   "outputs": [],
   "source": [
    "def train_and_test(epoch_count, mb_size, report, train_rate):\n",
    "    '''\n",
    "    학습과 테스트를 하는 함수\n",
    "    '''\n",
    "    # 1. 데이터를 섞어주는 기능(mb_size를 이용해서 한 에폭에 필요한 미니배치 스텝수를 step_count에 저장)\n",
    "    # 학습데이터와 평가 데이터를 섞어주는 기능 수행\n",
    "    step_count = arrange_data(mb_size, train_rate)\n",
    "    # 2. 테스트 데이터를 따로 저장하는 함수\n",
    "    test_x, test_y = get_test_data()\n",
    "\n",
    "    # 학습을 에폭 수만큼 수행\n",
    "    for epoch in range(epoch_count):\n",
    "        losses,accs = [], []\n",
    "\n",
    "        # step_count를 활용해 미니배치 처리를 수행\n",
    "        # step_count가 다 돌면 1에폭\n",
    "        for n in range(step_count):\n",
    "            train_x, train_y = get_train_data(mb_size, n)\n",
    "            loss, acc = run_train(train_x, train_y)\n",
    "            losses.append(loss)\n",
    "            accs.append(acc)\n",
    "\n",
    "        # 에폭이 돌면서 학습이 수행되고, 에폭값이 report로 설정한 수에 해당될때 마다 중간평가 수행\n",
    "        if report > 0 and (epoch+1) % report == 0:\n",
    "            acc = run_test(test_x, test_y)\n",
    "            print(\"Epoch {}: TRAIN-LOSS = {:5.3f}, accuracy = {:5.3f} / Test={:5.3f}\".\\\n",
    "                format(epoch+1, np.mean(losses), np.mean(accs), acc))\n",
    "\n",
    "    final_acc = run_test(test_x, test_y)\n",
    "    print('\\nFinal Test: accuracy = {:5.3f}'.\\\n",
    "        format(final_acc))\n"
   ]
  }
 ]
}