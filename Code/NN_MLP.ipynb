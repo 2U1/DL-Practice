{
 "metadata": {
  "language_info": {
   "codemirror_mode": {
    "name": "ipython",
    "version": 3
   },
   "file_extension": ".py",
   "mimetype": "text/x-python",
   "name": "python",
   "nbconvert_exporter": "python",
   "pygments_lexer": "ipython3",
   "version": "3.7.3-final"
  },
  "orig_nbformat": 2,
  "kernelspec": {
   "name": "python373jvsc74a57bd0e48d23369a553edc96f1373b6255b5687d82d68cd08867622b2500e338930542",
   "display_name": "Python 3.7.3 64-bit (conda)"
  }
 },
 "nbformat": 4,
 "nbformat_minor": 2,
 "cells": [
  {
   "source": [
    "# 다층을 가진 신경망"
   ],
   "cell_type": "markdown",
   "metadata": {}
  },
  {
   "cell_type": "code",
   "execution_count": 1,
   "metadata": {},
   "outputs": [],
   "source": [
    "import numpy as np\n",
    "import csv\n",
    "import pandas as pd"
   ]
  },
  {
   "cell_type": "code",
   "execution_count": 2,
   "metadata": {},
   "outputs": [],
   "source": [
    "%run NN_Softmax.ipynb"
   ]
  },
  {
   "cell_type": "code",
   "execution_count": 3,
   "metadata": {},
   "outputs": [],
   "source": [
    "# 신경망의 파라미터 생성 함수\n",
    "def init_model_hidden1():\n",
    "    global pm_output, pm_hidden, input_cnt, output_cnt, hidden_cnt\n",
    "\n",
    "    pm_hidden = allocate_param_pair([input_cnt, hidden_cnt])\n",
    "    pm_output = allocate_param_pair([hidden_cnt, output_cnt])"
   ]
  },
  {
   "cell_type": "code",
   "execution_count": 4,
   "metadata": {},
   "outputs": [],
   "source": [
    "def allocate_param_pair(shape):\n",
    "    weight = np.random.normal(RND_MEAN, RND_STD, shape)\n",
    "    bias = np.zeros(shape[-1])\n",
    "\n",
    "    return {'w':weight, 'b':bias}"
   ]
  },
  {
   "cell_type": "code",
   "execution_count": 5,
   "metadata": {},
   "outputs": [],
   "source": [
    "def forward_neuralnet_hidden1(x):\n",
    "    global pm_output, pm_hidden\n",
    "\n",
    "    hidden = relu(np.matmul(x, pm_hidden['w']) + pm_hidden['b'])\n",
    "    output = np.matmul(hidden, pm_hidden['w']) + pm_output['b']\n",
    "\n",
    "    return output, [x,hidden]\n",
    "\n",
    "def relu(x):\n",
    "    return np.maximum(x,0)"
   ]
  },
  {
   "cell_type": "code",
   "execution_count": 6,
   "metadata": {},
   "outputs": [],
   "source": [
    "def backprop_neuralnet_hidden1(G_output, aux):\n",
    "    global pm_output, pm_hidden\n",
    "    x, hidden = aux\n",
    "\n",
    "    g_output_w_out = hidden.transpose()\n",
    "    G_w_output = np.matmul(g_output_w_out, G_output)\n",
    "    G_b_output = np.sum(G_output, axis=0)\n",
    "\n",
    "    # 출력 계층의 파라미터 갱신\n",
    "    pm_output['w'] -= LEARNING_RATE * G_w_output\n",
    "    pm_output['b'] -= LEARNING_RATE * G_b_output\n",
    "\n",
    "    G_hidden = G_hidden * relu_derv(hidden)\n",
    "\n",
    "    # 은닉 계층의 파라미터 갱신\n",
    "    G_w_hid = np.matmul(g_hidden_w_hid, G_hidden)\n",
    "    G_b_hid = np.sum(G_hidden, axis=0)\n",
    "\n",
    "    pm_hidden['w'] -= LEARNING_RATE * G_w_hid\n",
    "    pm_hidden['b'] -= LEARNING_RATE * G_b_hid"
   ]
  },
  {
   "cell_type": "code",
   "execution_count": 7,
   "metadata": {},
   "outputs": [],
   "source": [
    "def relu_derv(y):\n",
    "    return np.maximum(np.sign(y),0)"
   ]
  },
  {
   "cell_type": "code",
   "execution_count": 8,
   "metadata": {},
   "outputs": [],
   "source": [
    "def set_hidden(info):\n",
    "    '''\n",
    "    은닉 계층의 수와 폭을 설정하여 값을 넘겨주는 역할을 한다.\n",
    "    '''\n",
    "    global hidden_cnt, hidden_config\n",
    "    # 일반적인 하나의 은닉 계층이라면\n",
    "    if isinstance(info,int):\n",
    "        hidden_cnt = info\n",
    "        hidden_config = None\n",
    "\n",
    "    else:\n",
    "        # 리스트값이라면 그대로 다층 퍼셉트론 수행\n",
    "        hidden_config = info"
   ]
  },
  {
   "cell_type": "code",
   "execution_count": 9,
   "metadata": {},
   "outputs": [],
   "source": [
    "def init_model():\n",
    "    if hidden_config is not None:\n",
    "        print('은닉 계층 {}을 갖는 다층 퍼셉트론이 구축되었습니다.'.format(len(hidden_config)))\n",
    "        init_model_hiddens()\n",
    "\n",
    "    else:\n",
    "        print(\"하나의 은닉계층을 갖는 다층 퍼셉트론이 구축되었습니다.\")\n",
    "        init_model_hidden1()"
   ]
  },
  {
   "cell_type": "code",
   "execution_count": 10,
   "metadata": {},
   "outputs": [],
   "source": [
    "def forward_neuralnet(x):\n",
    "    if hidden_config is not None:\n",
    "        return forward_neuralnet_hiddens(x)\n",
    "\n",
    "    else:\n",
    "        return forward_neuralnet_hidden1(x)\n",
    "\n",
    "def backprop_neuralnet(G_output, hiddens):\n",
    "    if hidden_config is not None:\n",
    "        return backprop_neuralnet_hiddens(G_output,hiddens)\n",
    "\n",
    "    else:\n",
    "        return backprop_neuralnet_hidden1(G_output, hiddens)"
   ]
  },
  {
   "cell_type": "code",
   "execution_count": 11,
   "metadata": {},
   "outputs": [],
   "source": [
    "def init_model_hiddens():                   # 은닉 계층 초기화\n",
    "    global pm_output, pm_hiddens, input_cnt, output_cnt, hidden_config\n",
    "    pm_hiddens =[]                          # 은닉 계층이 저장될 빈 리스트 생성\n",
    "    prev_cnt = input_cnt                    # input_cnt의 크기는 다음 게층의 입력 크기\n",
    "\n",
    "    for hidden_cnt in hidden_config:        # hidden_config 리스트로 받아올 은닉 계층의 수와 폭을 반복문으로\n",
    "        pm_hiddens.append(allocate_param_pair([prev_cnt, hidden_cnt]))\n",
    "        prev_cnt = hidden_cnt\n",
    "\n",
    "    pm_output = allocate_param_pair([prev_cnt, output_cnt])"
   ]
  },
  {
   "cell_type": "code",
   "execution_count": 12,
   "metadata": {},
   "outputs": [],
   "source": [
    "def backprop_neuralnet_hiddens(G_output, aux):\n",
    "    global pm_output, pm_hiddens\n",
    "\n",
    "    hiddens = aux\n",
    "\n",
    "    g_output_w_out = hiddens[-1].transpose()\n",
    "    G_w_out = np.matmul(g_output_w_out, G_output)\n",
    "    G_b_out = np.sum(G_output, axis=0)\n",
    "\n",
    "    g_output_hidden = pm_output['w'].transpose()\n",
    "    G_hidden = np.matmul(G_output, g_output_hidden)\n",
    "\n",
    "    pm_output['w'] -= LEARNING_RATE * G_w_out\n",
    "    pm_output['b'] -= LEARNING_RATE * G_b_out\n",
    "\n",
    "    for n in reversed(range(len(pm_hiddens))):\n",
    "        G_hidden = G_hidden * relu_derv(hiddens[n+1])\n",
    "\n",
    "        g_hidden_w_hid = hiddens[n].transpose()\n",
    "        G_w_hid = np.matmul(g_hidden_w_hid, G_hidden)\n",
    "        G_b_hid = np.sum(G_hidden, axis=0)\n",
    "\n",
    "        g_hidden_hidden = pm_hiddens[n]['w'].transpose()\n",
    "        G_hidden = np.matmul(G_hidden, g_hidden_hidden)\n",
    "\n",
    "        pm_hiddens[n]['w'] -= LEARNING_RATE * G_w_hid\n",
    "        pm_hiddens[n]['w'] -= LEARNING_RATE * G_b_hid"
   ]
  },
  {
   "cell_type": "code",
   "execution_count": 13,
   "metadata": {},
   "outputs": [],
   "source": [
    "def forward_neuralnet_hiddens(x):\n",
    "    global pm_output, pm_hiddens\n",
    "\n",
    "    hidden = x\n",
    "    hiddens = [x]\n",
    "\n",
    "    for pm_hidden in pm_hiddens:\n",
    "        hidden = relu(np.matmul(hidden, pm_hidden['w']) + pm_hidden['b'])\n",
    "        hiddens.append(hidden)\n",
    "\n",
    "    output = np.matmul(hidden, pm_output['w']) + pm_output['b']\n",
    "\n",
    "    return output, hiddens"
   ]
  }
 ]
}